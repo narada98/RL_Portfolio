{
 "cells": [
  {
   "cell_type": "code",
   "execution_count": 1,
   "metadata": {},
   "outputs": [],
   "source": [
    "import pandas as pd \n",
    "import numpy as np\n",
    "import pickle\n",
    "import os"
   ]
  },
  {
   "cell_type": "code",
   "execution_count": 2,
   "metadata": {},
   "outputs": [],
   "source": [
    "base_loc = \"/home/naradaw/dev/Charles_Schwab/data/w_features/v2/2024_11_19/2024_11_19_09_21\""
   ]
  },
  {
   "cell_type": "code",
   "execution_count": 3,
   "metadata": {},
   "outputs": [],
   "source": [
    "data_sqs_path = f\"{base_loc}/dataset_sqs.pkl\""
   ]
  },
  {
   "cell_type": "code",
   "execution_count": 4,
   "metadata": {},
   "outputs": [],
   "source": [
    "baseline_df = pd.read_csv(f\"{base_loc}/baseline_dataset_raw.csv\")\n",
    "data_df = pd.read_csv(f\"{base_loc}/dataset_raw.csv\")\n",
    "processed_df = pd.read_csv(f\"{base_loc}/dataset_processed.csv\")\n",
    "\n"
   ]
  },
  {
   "cell_type": "code",
   "execution_count": 5,
   "metadata": {},
   "outputs": [
    {
     "data": {
      "text/html": [
       "<div>\n",
       "<style scoped>\n",
       "    .dataframe tbody tr th:only-of-type {\n",
       "        vertical-align: middle;\n",
       "    }\n",
       "\n",
       "    .dataframe tbody tr th {\n",
       "        vertical-align: top;\n",
       "    }\n",
       "\n",
       "    .dataframe thead th {\n",
       "        text-align: right;\n",
       "    }\n",
       "</style>\n",
       "<table border=\"1\" class=\"dataframe\">\n",
       "  <thead>\n",
       "    <tr style=\"text-align: right;\">\n",
       "      <th></th>\n",
       "      <th>symbol</th>\n",
       "      <th>timestamp</th>\n",
       "      <th>open</th>\n",
       "      <th>high</th>\n",
       "      <th>low</th>\n",
       "      <th>close</th>\n",
       "      <th>volume</th>\n",
       "      <th>trade_count</th>\n",
       "      <th>vwap</th>\n",
       "      <th>baseline_target_</th>\n",
       "      <th>baseline_returns_</th>\n",
       "    </tr>\n",
       "  </thead>\n",
       "  <tbody>\n",
       "    <tr>\n",
       "      <th>1730</th>\n",
       "      <td>SPY</td>\n",
       "      <td>2024-10-15</td>\n",
       "      <td>584.59</td>\n",
       "      <td>584.90</td>\n",
       "      <td>578.5450</td>\n",
       "      <td>579.78</td>\n",
       "      <td>54203636.0</td>\n",
       "      <td>450436.0</td>\n",
       "      <td>581.362965</td>\n",
       "      <td>596.90</td>\n",
       "      <td>0.029528</td>\n",
       "    </tr>\n",
       "    <tr>\n",
       "      <th>1731</th>\n",
       "      <td>SPY</td>\n",
       "      <td>2024-10-16</td>\n",
       "      <td>579.78</td>\n",
       "      <td>582.83</td>\n",
       "      <td>578.9600</td>\n",
       "      <td>582.30</td>\n",
       "      <td>30725436.0</td>\n",
       "      <td>327311.0</td>\n",
       "      <td>581.263073</td>\n",
       "      <td>597.19</td>\n",
       "      <td>0.025571</td>\n",
       "    </tr>\n",
       "    <tr>\n",
       "      <th>1732</th>\n",
       "      <td>SPY</td>\n",
       "      <td>2024-10-17</td>\n",
       "      <td>585.91</td>\n",
       "      <td>586.12</td>\n",
       "      <td>582.1600</td>\n",
       "      <td>582.35</td>\n",
       "      <td>34393714.0</td>\n",
       "      <td>350466.0</td>\n",
       "      <td>583.466236</td>\n",
       "      <td>593.35</td>\n",
       "      <td>0.018889</td>\n",
       "    </tr>\n",
       "    <tr>\n",
       "      <th>1733</th>\n",
       "      <td>SPY</td>\n",
       "      <td>2024-10-18</td>\n",
       "      <td>584.07</td>\n",
       "      <td>585.39</td>\n",
       "      <td>582.5800</td>\n",
       "      <td>584.59</td>\n",
       "      <td>37416801.0</td>\n",
       "      <td>312698.0</td>\n",
       "      <td>584.217609</td>\n",
       "      <td>585.75</td>\n",
       "      <td>0.001984</td>\n",
       "    </tr>\n",
       "    <tr>\n",
       "      <th>1734</th>\n",
       "      <td>SPY</td>\n",
       "      <td>2024-10-21</td>\n",
       "      <td>583.85</td>\n",
       "      <td>584.85</td>\n",
       "      <td>580.6001</td>\n",
       "      <td>583.63</td>\n",
       "      <td>36439010.0</td>\n",
       "      <td>386011.0</td>\n",
       "      <td>582.897586</td>\n",
       "      <td>588.15</td>\n",
       "      <td>0.007745</td>\n",
       "    </tr>\n",
       "  </tbody>\n",
       "</table>\n",
       "</div>"
      ],
      "text/plain": [
       "     symbol   timestamp    open    high       low   close      volume  \\\n",
       "1730    SPY  2024-10-15  584.59  584.90  578.5450  579.78  54203636.0   \n",
       "1731    SPY  2024-10-16  579.78  582.83  578.9600  582.30  30725436.0   \n",
       "1732    SPY  2024-10-17  585.91  586.12  582.1600  582.35  34393714.0   \n",
       "1733    SPY  2024-10-18  584.07  585.39  582.5800  584.59  37416801.0   \n",
       "1734    SPY  2024-10-21  583.85  584.85  580.6001  583.63  36439010.0   \n",
       "\n",
       "      trade_count        vwap  baseline_target_  baseline_returns_  \n",
       "1730     450436.0  581.362965            596.90           0.029528  \n",
       "1731     327311.0  581.263073            597.19           0.025571  \n",
       "1732     350466.0  583.466236            593.35           0.018889  \n",
       "1733     312698.0  584.217609            585.75           0.001984  \n",
       "1734     386011.0  582.897586            588.15           0.007745  "
      ]
     },
     "execution_count": 5,
     "metadata": {},
     "output_type": "execute_result"
    }
   ],
   "source": [
    "baseline_df.tail()"
   ]
  },
  {
   "cell_type": "code",
   "execution_count": 6,
   "metadata": {},
   "outputs": [
    {
     "data": {
      "text/html": [
       "<div>\n",
       "<style scoped>\n",
       "    .dataframe tbody tr th:only-of-type {\n",
       "        vertical-align: middle;\n",
       "    }\n",
       "\n",
       "    .dataframe tbody tr th {\n",
       "        vertical-align: top;\n",
       "    }\n",
       "\n",
       "    .dataframe thead th {\n",
       "        text-align: right;\n",
       "    }\n",
       "</style>\n",
       "<table border=\"1\" class=\"dataframe\">\n",
       "  <thead>\n",
       "    <tr style=\"text-align: right;\">\n",
       "      <th></th>\n",
       "      <th>symbol</th>\n",
       "      <th>timestamp</th>\n",
       "      <th>open</th>\n",
       "      <th>high</th>\n",
       "      <th>low</th>\n",
       "      <th>close</th>\n",
       "      <th>volume</th>\n",
       "      <th>trade_count</th>\n",
       "      <th>vwap</th>\n",
       "    </tr>\n",
       "  </thead>\n",
       "  <tbody>\n",
       "    <tr>\n",
       "      <th>173740</th>\n",
       "      <td>WM</td>\n",
       "      <td>2024-11-12</td>\n",
       "      <td>225.00</td>\n",
       "      <td>226.4281</td>\n",
       "      <td>223.81</td>\n",
       "      <td>224.78</td>\n",
       "      <td>2002438.0</td>\n",
       "      <td>35581.0</td>\n",
       "      <td>224.980260</td>\n",
       "    </tr>\n",
       "    <tr>\n",
       "      <th>173741</th>\n",
       "      <td>WM</td>\n",
       "      <td>2024-11-13</td>\n",
       "      <td>225.08</td>\n",
       "      <td>226.8400</td>\n",
       "      <td>224.24</td>\n",
       "      <td>225.68</td>\n",
       "      <td>1087208.0</td>\n",
       "      <td>25970.0</td>\n",
       "      <td>225.722744</td>\n",
       "    </tr>\n",
       "    <tr>\n",
       "      <th>173742</th>\n",
       "      <td>WM</td>\n",
       "      <td>2024-11-14</td>\n",
       "      <td>224.66</td>\n",
       "      <td>225.5500</td>\n",
       "      <td>221.57</td>\n",
       "      <td>221.72</td>\n",
       "      <td>1215866.0</td>\n",
       "      <td>28721.0</td>\n",
       "      <td>222.357046</td>\n",
       "    </tr>\n",
       "    <tr>\n",
       "      <th>173743</th>\n",
       "      <td>WM</td>\n",
       "      <td>2024-11-15</td>\n",
       "      <td>219.51</td>\n",
       "      <td>221.5250</td>\n",
       "      <td>217.25</td>\n",
       "      <td>217.90</td>\n",
       "      <td>1796543.0</td>\n",
       "      <td>35639.0</td>\n",
       "      <td>218.632828</td>\n",
       "    </tr>\n",
       "    <tr>\n",
       "      <th>173744</th>\n",
       "      <td>WM</td>\n",
       "      <td>2024-11-18</td>\n",
       "      <td>217.31</td>\n",
       "      <td>219.4700</td>\n",
       "      <td>217.08</td>\n",
       "      <td>218.31</td>\n",
       "      <td>986891.0</td>\n",
       "      <td>25718.0</td>\n",
       "      <td>218.259074</td>\n",
       "    </tr>\n",
       "  </tbody>\n",
       "</table>\n",
       "</div>"
      ],
      "text/plain": [
       "       symbol   timestamp    open      high     low   close     volume  \\\n",
       "173740     WM  2024-11-12  225.00  226.4281  223.81  224.78  2002438.0   \n",
       "173741     WM  2024-11-13  225.08  226.8400  224.24  225.68  1087208.0   \n",
       "173742     WM  2024-11-14  224.66  225.5500  221.57  221.72  1215866.0   \n",
       "173743     WM  2024-11-15  219.51  221.5250  217.25  217.90  1796543.0   \n",
       "173744     WM  2024-11-18  217.31  219.4700  217.08  218.31   986891.0   \n",
       "\n",
       "        trade_count        vwap  \n",
       "173740      35581.0  224.980260  \n",
       "173741      25970.0  225.722744  \n",
       "173742      28721.0  222.357046  \n",
       "173743      35639.0  218.632828  \n",
       "173744      25718.0  218.259074  "
      ]
     },
     "execution_count": 6,
     "metadata": {},
     "output_type": "execute_result"
    }
   ],
   "source": [
    "data_df.tail()"
   ]
  },
  {
   "cell_type": "code",
   "execution_count": 7,
   "metadata": {},
   "outputs": [
    {
     "data": {
      "text/plain": [
       "(1755, 1735)"
      ]
     },
     "execution_count": 7,
     "metadata": {},
     "output_type": "execute_result"
    }
   ],
   "source": [
    "data_df.timestamp.nunique(),  baseline_df.timestamp.nunique()"
   ]
  },
  {
   "cell_type": "code",
   "execution_count": 8,
   "metadata": {},
   "outputs": [
    {
     "data": {
      "text/html": [
       "<div>\n",
       "<style scoped>\n",
       "    .dataframe tbody tr th:only-of-type {\n",
       "        vertical-align: middle;\n",
       "    }\n",
       "\n",
       "    .dataframe tbody tr th {\n",
       "        vertical-align: top;\n",
       "    }\n",
       "\n",
       "    .dataframe thead th {\n",
       "        text-align: right;\n",
       "    }\n",
       "</style>\n",
       "<table border=\"1\" class=\"dataframe\">\n",
       "  <thead>\n",
       "    <tr style=\"text-align: right;\">\n",
       "      <th></th>\n",
       "      <th>symbol</th>\n",
       "      <th>timestamp</th>\n",
       "      <th>open</th>\n",
       "      <th>high</th>\n",
       "      <th>low</th>\n",
       "      <th>close</th>\n",
       "      <th>volume</th>\n",
       "      <th>trade_count</th>\n",
       "      <th>vwap</th>\n",
       "    </tr>\n",
       "  </thead>\n",
       "  <tbody>\n",
       "    <tr>\n",
       "      <th>173720</th>\n",
       "      <td>WM</td>\n",
       "      <td>2024-10-15</td>\n",
       "      <td>214.54</td>\n",
       "      <td>216.0100</td>\n",
       "      <td>213.430</td>\n",
       "      <td>213.79</td>\n",
       "      <td>1180409.0</td>\n",
       "      <td>29135.0</td>\n",
       "      <td>214.461648</td>\n",
       "    </tr>\n",
       "    <tr>\n",
       "      <th>173721</th>\n",
       "      <td>WM</td>\n",
       "      <td>2024-10-16</td>\n",
       "      <td>213.22</td>\n",
       "      <td>214.2024</td>\n",
       "      <td>212.515</td>\n",
       "      <td>213.14</td>\n",
       "      <td>718619.0</td>\n",
       "      <td>19140.0</td>\n",
       "      <td>213.193734</td>\n",
       "    </tr>\n",
       "    <tr>\n",
       "      <th>173722</th>\n",
       "      <td>WM</td>\n",
       "      <td>2024-10-17</td>\n",
       "      <td>214.13</td>\n",
       "      <td>214.4900</td>\n",
       "      <td>212.140</td>\n",
       "      <td>213.08</td>\n",
       "      <td>847090.0</td>\n",
       "      <td>20474.0</td>\n",
       "      <td>212.939363</td>\n",
       "    </tr>\n",
       "    <tr>\n",
       "      <th>173723</th>\n",
       "      <td>WM</td>\n",
       "      <td>2024-10-18</td>\n",
       "      <td>213.39</td>\n",
       "      <td>213.5000</td>\n",
       "      <td>212.000</td>\n",
       "      <td>212.75</td>\n",
       "      <td>816092.0</td>\n",
       "      <td>17581.0</td>\n",
       "      <td>212.948471</td>\n",
       "    </tr>\n",
       "    <tr>\n",
       "      <th>173724</th>\n",
       "      <td>WM</td>\n",
       "      <td>2024-10-21</td>\n",
       "      <td>212.56</td>\n",
       "      <td>212.9300</td>\n",
       "      <td>210.370</td>\n",
       "      <td>211.82</td>\n",
       "      <td>1033029.0</td>\n",
       "      <td>25100.0</td>\n",
       "      <td>211.721782</td>\n",
       "    </tr>\n",
       "  </tbody>\n",
       "</table>\n",
       "</div>"
      ],
      "text/plain": [
       "       symbol   timestamp    open      high      low   close     volume  \\\n",
       "173720     WM  2024-10-15  214.54  216.0100  213.430  213.79  1180409.0   \n",
       "173721     WM  2024-10-16  213.22  214.2024  212.515  213.14   718619.0   \n",
       "173722     WM  2024-10-17  214.13  214.4900  212.140  213.08   847090.0   \n",
       "173723     WM  2024-10-18  213.39  213.5000  212.000  212.75   816092.0   \n",
       "173724     WM  2024-10-21  212.56  212.9300  210.370  211.82  1033029.0   \n",
       "\n",
       "        trade_count        vwap  \n",
       "173720      29135.0  214.461648  \n",
       "173721      19140.0  213.193734  \n",
       "173722      20474.0  212.939363  \n",
       "173723      17581.0  212.948471  \n",
       "173724      25100.0  211.721782  "
      ]
     },
     "execution_count": 8,
     "metadata": {},
     "output_type": "execute_result"
    }
   ],
   "source": [
    "data_df_1 = data_df[data_df.timestamp.isin(baseline_df.timestamp.unique())]\n",
    "data_df_1.tail()"
   ]
  },
  {
   "cell_type": "code",
   "execution_count": 9,
   "metadata": {},
   "outputs": [
    {
     "data": {
      "text/html": [
       "<div>\n",
       "<style scoped>\n",
       "    .dataframe tbody tr th:only-of-type {\n",
       "        vertical-align: middle;\n",
       "    }\n",
       "\n",
       "    .dataframe tbody tr th {\n",
       "        vertical-align: top;\n",
       "    }\n",
       "\n",
       "    .dataframe thead th {\n",
       "        text-align: right;\n",
       "    }\n",
       "</style>\n",
       "<table border=\"1\" class=\"dataframe\">\n",
       "  <thead>\n",
       "    <tr style=\"text-align: right;\">\n",
       "      <th></th>\n",
       "      <th>symbol</th>\n",
       "      <th>timestamp</th>\n",
       "      <th>open</th>\n",
       "      <th>high</th>\n",
       "      <th>low</th>\n",
       "      <th>close</th>\n",
       "      <th>volume</th>\n",
       "      <th>trade_count</th>\n",
       "      <th>vwap</th>\n",
       "      <th>target_</th>\n",
       "      <th>...</th>\n",
       "      <th>momentum_ppo</th>\n",
       "      <th>momentum_ppo_signal</th>\n",
       "      <th>momentum_ppo_hist</th>\n",
       "      <th>momentum_pvo</th>\n",
       "      <th>momentum_pvo_signal</th>\n",
       "      <th>momentum_pvo_hist</th>\n",
       "      <th>momentum_kama</th>\n",
       "      <th>others_dr</th>\n",
       "      <th>others_dlr</th>\n",
       "      <th>others_cr</th>\n",
       "    </tr>\n",
       "  </thead>\n",
       "  <tbody>\n",
       "    <tr>\n",
       "      <th>171760</th>\n",
       "      <td>WM</td>\n",
       "      <td>2024-10-15</td>\n",
       "      <td>214.54</td>\n",
       "      <td>216.0100</td>\n",
       "      <td>213.430</td>\n",
       "      <td>213.79</td>\n",
       "      <td>1180409.0</td>\n",
       "      <td>29135.0</td>\n",
       "      <td>214.461648</td>\n",
       "      <td>224.78</td>\n",
       "      <td>...</td>\n",
       "      <td>0.731010</td>\n",
       "      <td>0.369566</td>\n",
       "      <td>0.361444</td>\n",
       "      <td>-9.074876</td>\n",
       "      <td>-7.096165</td>\n",
       "      <td>-1.978710</td>\n",
       "      <td>209.000931</td>\n",
       "      <td>0.135831</td>\n",
       "      <td>0.135739</td>\n",
       "      <td>196.600999</td>\n",
       "    </tr>\n",
       "    <tr>\n",
       "      <th>171761</th>\n",
       "      <td>WM</td>\n",
       "      <td>2024-10-16</td>\n",
       "      <td>213.22</td>\n",
       "      <td>214.2024</td>\n",
       "      <td>212.515</td>\n",
       "      <td>213.14</td>\n",
       "      <td>718619.0</td>\n",
       "      <td>19140.0</td>\n",
       "      <td>213.193734</td>\n",
       "      <td>225.68</td>\n",
       "      <td>...</td>\n",
       "      <td>0.783440</td>\n",
       "      <td>0.452341</td>\n",
       "      <td>0.331099</td>\n",
       "      <td>-11.619399</td>\n",
       "      <td>-8.000812</td>\n",
       "      <td>-3.618587</td>\n",
       "      <td>209.319498</td>\n",
       "      <td>-0.304037</td>\n",
       "      <td>-0.304500</td>\n",
       "      <td>195.699223</td>\n",
       "    </tr>\n",
       "    <tr>\n",
       "      <th>171762</th>\n",
       "      <td>WM</td>\n",
       "      <td>2024-10-17</td>\n",
       "      <td>214.13</td>\n",
       "      <td>214.4900</td>\n",
       "      <td>212.140</td>\n",
       "      <td>213.08</td>\n",
       "      <td>847090.0</td>\n",
       "      <td>20474.0</td>\n",
       "      <td>212.939363</td>\n",
       "      <td>221.72</td>\n",
       "      <td>...</td>\n",
       "      <td>0.813041</td>\n",
       "      <td>0.524481</td>\n",
       "      <td>0.288560</td>\n",
       "      <td>-12.726385</td>\n",
       "      <td>-8.945927</td>\n",
       "      <td>-3.780459</td>\n",
       "      <td>209.513961</td>\n",
       "      <td>-0.028151</td>\n",
       "      <td>-0.028154</td>\n",
       "      <td>195.615982</td>\n",
       "    </tr>\n",
       "    <tr>\n",
       "      <th>171763</th>\n",
       "      <td>WM</td>\n",
       "      <td>2024-10-18</td>\n",
       "      <td>213.39</td>\n",
       "      <td>213.5000</td>\n",
       "      <td>212.000</td>\n",
       "      <td>212.75</td>\n",
       "      <td>816092.0</td>\n",
       "      <td>17581.0</td>\n",
       "      <td>212.948471</td>\n",
       "      <td>217.90</td>\n",
       "      <td>...</td>\n",
       "      <td>0.814295</td>\n",
       "      <td>0.582444</td>\n",
       "      <td>0.231851</td>\n",
       "      <td>-13.766248</td>\n",
       "      <td>-9.909991</td>\n",
       "      <td>-3.856257</td>\n",
       "      <td>209.739171</td>\n",
       "      <td>-0.154871</td>\n",
       "      <td>-0.154991</td>\n",
       "      <td>195.158158</td>\n",
       "    </tr>\n",
       "    <tr>\n",
       "      <th>171764</th>\n",
       "      <td>WM</td>\n",
       "      <td>2024-10-21</td>\n",
       "      <td>212.56</td>\n",
       "      <td>212.9300</td>\n",
       "      <td>210.370</td>\n",
       "      <td>211.82</td>\n",
       "      <td>1033029.0</td>\n",
       "      <td>25100.0</td>\n",
       "      <td>211.721782</td>\n",
       "      <td>218.31</td>\n",
       "      <td>...</td>\n",
       "      <td>0.770774</td>\n",
       "      <td>0.620110</td>\n",
       "      <td>0.150664</td>\n",
       "      <td>-12.850104</td>\n",
       "      <td>-10.498014</td>\n",
       "      <td>-2.352091</td>\n",
       "      <td>210.035791</td>\n",
       "      <td>-0.437133</td>\n",
       "      <td>-0.438091</td>\n",
       "      <td>193.867925</td>\n",
       "    </tr>\n",
       "  </tbody>\n",
       "</table>\n",
       "<p>5 rows × 97 columns</p>\n",
       "</div>"
      ],
      "text/plain": [
       "       symbol   timestamp    open      high      low   close     volume  \\\n",
       "171760     WM  2024-10-15  214.54  216.0100  213.430  213.79  1180409.0   \n",
       "171761     WM  2024-10-16  213.22  214.2024  212.515  213.14   718619.0   \n",
       "171762     WM  2024-10-17  214.13  214.4900  212.140  213.08   847090.0   \n",
       "171763     WM  2024-10-18  213.39  213.5000  212.000  212.75   816092.0   \n",
       "171764     WM  2024-10-21  212.56  212.9300  210.370  211.82  1033029.0   \n",
       "\n",
       "        trade_count        vwap  target_  ...  momentum_ppo  \\\n",
       "171760      29135.0  214.461648   224.78  ...      0.731010   \n",
       "171761      19140.0  213.193734   225.68  ...      0.783440   \n",
       "171762      20474.0  212.939363   221.72  ...      0.813041   \n",
       "171763      17581.0  212.948471   217.90  ...      0.814295   \n",
       "171764      25100.0  211.721782   218.31  ...      0.770774   \n",
       "\n",
       "        momentum_ppo_signal  momentum_ppo_hist  momentum_pvo  \\\n",
       "171760             0.369566           0.361444     -9.074876   \n",
       "171761             0.452341           0.331099    -11.619399   \n",
       "171762             0.524481           0.288560    -12.726385   \n",
       "171763             0.582444           0.231851    -13.766248   \n",
       "171764             0.620110           0.150664    -12.850104   \n",
       "\n",
       "        momentum_pvo_signal  momentum_pvo_hist  momentum_kama  others_dr  \\\n",
       "171760            -7.096165          -1.978710     209.000931   0.135831   \n",
       "171761            -8.000812          -3.618587     209.319498  -0.304037   \n",
       "171762            -8.945927          -3.780459     209.513961  -0.028151   \n",
       "171763            -9.909991          -3.856257     209.739171  -0.154871   \n",
       "171764           -10.498014          -2.352091     210.035791  -0.437133   \n",
       "\n",
       "        others_dlr   others_cr  \n",
       "171760    0.135739  196.600999  \n",
       "171761   -0.304500  195.699223  \n",
       "171762   -0.028154  195.615982  \n",
       "171763   -0.154991  195.158158  \n",
       "171764   -0.438091  193.867925  \n",
       "\n",
       "[5 rows x 97 columns]"
      ]
     },
     "execution_count": 9,
     "metadata": {},
     "output_type": "execute_result"
    }
   ],
   "source": [
    "processed_df.tail()"
   ]
  },
  {
   "cell_type": "code",
   "execution_count": 10,
   "metadata": {},
   "outputs": [
    {
     "data": {
      "text/plain": [
       "((1735, 11), (173745, 9), (171765, 97))"
      ]
     },
     "execution_count": 10,
     "metadata": {},
     "output_type": "execute_result"
    }
   ],
   "source": [
    "baseline_df.shape, data_df.shape, processed_df.shape"
   ]
  },
  {
   "cell_type": "code",
   "execution_count": 11,
   "metadata": {},
   "outputs": [],
   "source": [
    "with open(\"/home/naradaw/dev/Charles_Schwab/data/symbol_universe/snp_unique_100_2019\", \"rb\") as fp:\n",
    "    symbol_universe = pickle.load(fp)\n",
    "    \n",
    "symbol_universe = symbol_universe[:20]"
   ]
  },
  {
   "cell_type": "code",
   "execution_count": 12,
   "metadata": {},
   "outputs": [
    {
     "name": "stdout",
     "output_type": "stream",
     "text": [
      "['SWKS', 'ALLE', 'BDX', 'CMI', 'APH', 'PNC', 'GWW', 'GLW', 'NRG', 'JKHY', 'LRCX', 'KHC', 'OMC', 'KMX', 'MRO', 'GE', 'NVDA', 'NOC', 'KO', 'CE']\n"
     ]
    }
   ],
   "source": [
    "print(symbol_universe)"
   ]
  },
  {
   "cell_type": "code",
   "execution_count": 13,
   "metadata": {},
   "outputs": [],
   "source": [
    "with open(data_sqs_path, 'rb') as f:\n",
    "    data = pickle.load(f)\n",
    "\n",
    "features = np.array([data[symbol]['features'] for symbol in symbol_universe])\n",
    "returns = np.array([data[symbol]['returns'] for symbol in symbol_universe])\n"
   ]
  },
  {
   "cell_type": "code",
   "execution_count": 14,
   "metadata": {},
   "outputs": [
    {
     "data": {
      "text/plain": [
       "array([-0.05680392, -0.04213348, -0.04583587, ...,  0.01888898,\n",
       "        0.0019843 ,  0.00774463])"
      ]
     },
     "execution_count": 14,
     "metadata": {},
     "output_type": "execute_result"
    }
   ],
   "source": [
    "baseline_returns = data['baseline_return']\n",
    "baseline_returns"
   ]
  },
  {
   "cell_type": "code",
   "execution_count": 15,
   "metadata": {},
   "outputs": [
    {
     "data": {
      "text/plain": [
       "(20, 1676, 60, 87)"
      ]
     },
     "execution_count": 15,
     "metadata": {},
     "output_type": "execute_result"
    }
   ],
   "source": [
    "features.shape"
   ]
  },
  {
   "cell_type": "code",
   "execution_count": 16,
   "metadata": {},
   "outputs": [
    {
     "data": {
      "text/plain": [
       "(1676, 1676)"
      ]
     },
     "execution_count": 16,
     "metadata": {},
     "output_type": "execute_result"
    }
   ],
   "source": [
    "len(features.transpose(1,0,2,3)) , len(data['baseline_return'])"
   ]
  },
  {
   "cell_type": "code",
   "execution_count": 17,
   "metadata": {},
   "outputs": [
    {
     "data": {
      "text/plain": [
       "dict_keys(['A', 'AJG', 'ALB', 'ALL', 'ALLE', 'ANET', 'APA', 'APD', 'APH', 'AWK', 'AXP', 'BBY', 'BDX', 'BEN', 'BIIB', 'CAG', 'CAH', 'CE', 'CF', 'CHD', 'CHTR', 'CINF', 'CMI', 'CPB', 'CSCO', 'CTAS', 'DAL', 'DFS', 'DG', 'DHI', 'EBAY', 'ED', 'EIX', 'EL', 'EMR', 'ES', 'ETN', 'EXPE', 'FMC', 'FRT', 'GE', 'GL', 'GLW', 'GWW', 'HCA', 'HRL', 'HUM', 'IFF', 'INTC', 'IPG', 'IRM', 'JCI', 'JKHY', 'JNJ', 'JPM', 'KHC', 'KMB', 'KMX', 'KO', 'KR', 'LRCX', 'LYB', 'MA', 'MCK', 'MDLZ', 'MLM', 'MMM', 'MRO', 'MU', 'NCLH', 'NOC', 'NRG', 'NVDA', 'NWS', 'OMC', 'ORLY', 'PNC', 'PNR', 'PYPL', 'QRVO', 'REG', 'REGN', 'RF', 'RMD', 'ROP', 'ROST', 'RSG', 'SBUX', 'SHW', 'SWKS', 'TAP', 'TSN', 'TTWO', 'UAL', 'VRSN', 'VTR', 'VZ', 'WEC', 'WM', 'baseline_return'])"
      ]
     },
     "execution_count": 17,
     "metadata": {},
     "output_type": "execute_result"
    }
   ],
   "source": [
    "data.keys()"
   ]
  },
  {
   "cell_type": "code",
   "execution_count": 18,
   "metadata": {},
   "outputs": [],
   "source": [
    "del data"
   ]
  },
  {
   "cell_type": "code",
   "execution_count": 19,
   "metadata": {},
   "outputs": [
    {
     "data": {
      "text/plain": [
       "((20, 1676, 60, 87), (20, 1676))"
      ]
     },
     "execution_count": 19,
     "metadata": {},
     "output_type": "execute_result"
    }
   ],
   "source": [
    "features.shape, returns.shape"
   ]
  },
  {
   "cell_type": "code",
   "execution_count": 20,
   "metadata": {},
   "outputs": [],
   "source": [
    "features = features.transpose(1,2,0,3)\n",
    "returns = returns.transpose(1,0)"
   ]
  },
  {
   "cell_type": "code",
   "execution_count": 21,
   "metadata": {},
   "outputs": [
    {
     "data": {
      "text/plain": [
       "((1676, 60, 20, 87), (1676, 20))"
      ]
     },
     "execution_count": 21,
     "metadata": {},
     "output_type": "execute_result"
    }
   ],
   "source": [
    "features.shape, returns.shape"
   ]
  },
  {
   "cell_type": "code",
   "execution_count": 22,
   "metadata": {},
   "outputs": [
    {
     "data": {
      "text/plain": [
       "(20,)"
      ]
     },
     "execution_count": 22,
     "metadata": {},
     "output_type": "execute_result"
    }
   ],
   "source": [
    "returns[0].shape"
   ]
  },
  {
   "cell_type": "code",
   "execution_count": 23,
   "metadata": {},
   "outputs": [
    {
     "data": {
      "text/plain": [
       "array([-0.03486031, -0.0350574 , -0.03179551, ..., -0.07318993,\n",
       "       -0.08868023, -0.08795474])"
      ]
     },
     "execution_count": 23,
     "metadata": {},
     "output_type": "execute_result"
    }
   ],
   "source": [
    "returns[: , 1]"
   ]
  },
  {
   "cell_type": "code",
   "execution_count": 24,
   "metadata": {},
   "outputs": [
    {
     "data": {
      "text/plain": [
       "array([-0.05680392, -0.04213348, -0.04583587, ...,  0.01888898,\n",
       "        0.0019843 ,  0.00774463])"
      ]
     },
     "execution_count": 24,
     "metadata": {},
     "output_type": "execute_result"
    }
   ],
   "source": [
    "baseline_returns"
   ]
  },
  {
   "cell_type": "code",
   "execution_count": null,
   "metadata": {},
   "outputs": [],
   "source": []
  }
 ],
 "metadata": {
  "kernelspec": {
   "display_name": "tf-wsl",
   "language": "python",
   "name": "python3"
  },
  "language_info": {
   "codemirror_mode": {
    "name": "ipython",
    "version": 3
   },
   "file_extension": ".py",
   "mimetype": "text/x-python",
   "name": "python",
   "nbconvert_exporter": "python",
   "pygments_lexer": "ipython3",
   "version": "3.9.19"
  }
 },
 "nbformat": 4,
 "nbformat_minor": 2
}
