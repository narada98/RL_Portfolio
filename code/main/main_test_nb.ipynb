{
 "cells": [
  {
   "cell_type": "code",
   "execution_count": 1,
   "metadata": {},
   "outputs": [],
   "source": [
    "import pandas as pd\n",
    "import numpy as np\n",
    "import torch\n",
    "\n",
    "from PortfolioConstructor import PortfolioConstructor"
   ]
  },
  {
   "cell_type": "code",
   "execution_count": 2,
   "metadata": {},
   "outputs": [],
   "source": [
    "if torch.cuda.is_available():\n",
    "    torch.set_default_device('cuda') \n",
    "    torch.get_default_device()\n",
    "    device = 'cuda'\n",
    "else:\n",
    "    device = 'cpu'"
   ]
  },
  {
   "cell_type": "code",
   "execution_count": 3,
   "metadata": {},
   "outputs": [
    {
     "name": "stderr",
     "output_type": "stream",
     "text": [
      "/home/naradaw/miniconda3/envs/tf-wsl/lib/python3.9/site-packages/torch/nn/modules/transformer.py:307: UserWarning: enable_nested_tensor is True, but self.use_nested_tensor is False because encoder_layer.self_attn.batch_first was not True(use batch_first for better inference performance)\n",
      "  warnings.warn(f\"enable_nested_tensor is True, but self.use_nested_tensor is False because {why_not_sparsity_fast_path}\")\n"
     ]
    }
   ],
   "source": [
    "number_of_assets = 20\n",
    "symbol_universe = [f'symbol_{i}' for i in range(number_of_assets)]\n",
    "seq_length = 120\n",
    "num_transformer_layers = 2\n",
    "\n",
    "portfolio_constructor = PortfolioConstructor(\n",
    "    device = device,\n",
    "    symbol_universe = symbol_universe,\n",
    "    seq_length = seq_length,\n",
    "    multihead_dim = 2,\n",
    "    num_transformer_layers = num_transformer_layers\n",
    ")\n",
    "sample_arr = np.random.uniform(\n",
    "    low = 10,\n",
    "    high = 250,\n",
    "    size = (1,number_of_assets,seq_length)\n",
    ")\n",
    "\n",
    "sample_tr_ten = torch.from_numpy(sample_arr).to(device).to(torch.float32)"
   ]
  },
  {
   "cell_type": "code",
   "execution_count": 4,
   "metadata": {},
   "outputs": [
    {
     "data": {
      "text/plain": [
       "(tensor([0.1966, 0.0000, 0.0000, 0.0000, 0.0000, 0.0000, 0.0000, 0.0000, 0.0000,\n",
       "         0.1824, 0.0000, 0.0000, 0.0000, 0.1885, 0.0000, 0.0000, 0.0000, 0.2257,\n",
       "         0.0000, 0.2067], device='cuda:0', grad_fn=<SoftmaxBackward0>),\n",
       " tensor([0.0000, 0.0000, 0.2023, 0.2043, 0.2043, 0.0000, 0.0000, 0.0000, 0.0000,\n",
       "         0.0000, 0.1843, 0.0000, 0.2048, 0.0000, 0.0000, 0.0000, 0.0000, 0.0000,\n",
       "         0.0000, 0.0000], device='cuda:0', grad_fn=<SoftmaxBackward0>))"
      ]
     },
     "execution_count": 4,
     "metadata": {},
     "output_type": "execute_result"
    }
   ],
   "source": [
    "portfolio_constructor(sample_tr_ten)"
   ]
  },
  {
   "cell_type": "code",
   "execution_count": null,
   "metadata": {},
   "outputs": [],
   "source": []
  },
  {
   "cell_type": "code",
   "execution_count": null,
   "metadata": {},
   "outputs": [],
   "source": []
  }
 ],
 "metadata": {
  "kernelspec": {
   "display_name": "tf-wsl",
   "language": "python",
   "name": "python3"
  },
  "language_info": {
   "codemirror_mode": {
    "name": "ipython",
    "version": 3
   },
   "file_extension": ".py",
   "mimetype": "text/x-python",
   "name": "python",
   "nbconvert_exporter": "python",
   "pygments_lexer": "ipython3",
   "version": "3.9.19"
  }
 },
 "nbformat": 4,
 "nbformat_minor": 2
}
