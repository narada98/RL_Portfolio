{
 "cells": [
  {
   "cell_type": "code",
   "execution_count": 2,
   "metadata": {},
   "outputs": [],
   "source": [
    "import mlflow\n",
    "import torch \n",
    "import torch.nn as nn \n",
    "import numpy as np \n",
    "import datetime\n",
    "import ast\n",
    "import pickle"
   ]
  },
  {
   "cell_type": "code",
   "execution_count": 3,
   "metadata": {},
   "outputs": [],
   "source": [
    "from ExchnageEnv import MarketEnvironment"
   ]
  },
  {
   "cell_type": "code",
   "execution_count": 4,
   "metadata": {},
   "outputs": [],
   "source": [
    "''' \n",
    "sharpe ratio measures the excess return of the portfolio over the \n",
    "volatility of it -> risk adjusted performance\n",
    "'''\n",
    "\n",
    "def sharp_ratio_(rewards, tran_costs):\n",
    "\n",
    "\t# rewards = [r.detach().cpu().numpy() for r in rewards]\n",
    "\tmean = sum(rewards) / len(rewards)\n",
    "\tAt = sum(r - t for r, t in zip(rewards, tran_costs)) / len(rewards)\n",
    "\tvol = sum((r - mean) ** 2 for r in rewards) / len(rewards)\n",
    "\tvol = vol ** 0.5\n",
    "\n",
    "\treturn (At - 1e-7) / (vol + 1e-9)"
   ]
  },
  {
   "cell_type": "code",
   "execution_count": 5,
   "metadata": {},
   "outputs": [
    {
     "name": "stdout",
     "output_type": "stream",
     "text": [
      "torch is running on : cuda\n"
     ]
    }
   ],
   "source": [
    "if torch.cuda.is_available():\n",
    "    device = 'cuda'\n",
    "else:\n",
    "    device = 'cpu'\n",
    "\n",
    "print(f\"torch is running on : {device}\")"
   ]
  },
  {
   "cell_type": "code",
   "execution_count": 6,
   "metadata": {},
   "outputs": [
    {
     "data": {
      "text/plain": [
       "<Experiment: artifact_location='file:///home/naradaw/dev/Charles_Schwab/code/RnD/v3/mlflow_experiments/168050635922118841', creation_time=1730954894954, experiment_id='168050635922118841', last_update_time=1730954894954, lifecycle_stage='active', name='/portfolio-contructor-v3', tags={}>"
      ]
     },
     "execution_count": 6,
     "metadata": {},
     "output_type": "execute_result"
    }
   ],
   "source": [
    "mlflow_tracking_uri = 'file:/home/naradaw/dev/Charles_Schwab/code/RnD/v3/mlflow_experiments'\n",
    "mlflow.set_tracking_uri(mlflow_tracking_uri)\n",
    "\n",
    "experiment_name = \"/portfolio-contructor-v3\"\n",
    "mlflow.set_experiment(experiment_name)"
   ]
  },
  {
   "cell_type": "code",
   "execution_count": 7,
   "metadata": {},
   "outputs": [],
   "source": [
    "data_path = \"/home/naradaw/dev/Charles_Schwab/data/w_features/v1/2024_10_31/dataset_sqs_2024_10_31_11_18.pkl\""
   ]
  },
  {
   "cell_type": "code",
   "execution_count": 8,
   "metadata": {},
   "outputs": [],
   "source": [
    "with open(data_path, 'rb') as f:\n",
    "    data_dict = pickle.load(f)"
   ]
  },
  {
   "cell_type": "code",
   "execution_count": 9,
   "metadata": {},
   "outputs": [],
   "source": [
    "mlflow_tracking_uri = '/home/naradaw/dev/Charles_Schwab/code/RnD/v3/mlflow_experiments'\n",
    "mlflow_registry_uri = '/home/naradaw/dev/Charles_Schwab/code/RnD/v3/mlflow_model_registry'"
   ]
  },
  {
   "cell_type": "code",
   "execution_count": 10,
   "metadata": {},
   "outputs": [],
   "source": [
    "mlflow_client = mlflow.client.MlflowClient(\n",
    "    tracking_uri=mlflow_tracking_uri,\n",
    "    registry_uri= mlflow_registry_uri\n",
    ")"
   ]
  },
  {
   "cell_type": "code",
   "execution_count": 11,
   "metadata": {},
   "outputs": [],
   "source": [
    "run_id = '17ce97946d7e47c1996f5e06b7853cf0'"
   ]
  },
  {
   "cell_type": "code",
   "execution_count": 12,
   "metadata": {},
   "outputs": [],
   "source": [
    "run = mlflow_client.get_run(\n",
    "    run_id=run_id\n",
    ")"
   ]
  },
  {
   "cell_type": "code",
   "execution_count": 13,
   "metadata": {},
   "outputs": [
    {
     "data": {
      "text/plain": [
       "{'feature_set': \"['close', 'volume_mfi', 'volume_fi', 'volume_nvi', 'trend_visual_ichimoku_a', 'trend_aroon_up', 'volatility_atr', 'trend_psar_down_indicator', 'volatility_bbl', 'volatility_dcl', 'trend_vortex_ind_neg', 'trend_cci', 'volume_sma_em', 'volatility_kch', 'volatility_kcl', 'trend_aroon_ind', 'volume_cmf', 'volatility_kcp', 'trend_ichimoku_base', 'momentum_stoch_rsi_d', 'momentum_ppo_signal', 'trend_ema_slow', 'volatility_bbhi', 'momentum_wr', 'trend_psar_up', 'volume_obv', 'others_dr', 'momentum_stoch', 'momentum_ppo', 'volatility_bbh', 'volatility_kcw', 'trend_adx_neg', 'volatility_dcm', 'trend_psar_up_indicator', 'momentum_pvo_signal', 'momentum_ppo_hist', 'trend_kst_diff', 'volume_vwap', 'volatility_bbm', 'momentum_uo', 'volatility_dcp', 'momentum_pvo_hist', 'trend_vortex_ind_diff', 'others_dlr', 'momentum_stoch_rsi', 'trend_macd_signal', 'trend_macd', 'momentum_kama', 'trend_dpo', 'others_cr', 'trend_visual_ichimoku_b', 'trend_kst', 'trend_adx', 'momentum_stoch_signal', 'trend_macd_diff', 'volatility_dch', 'momentum_rsi', 'trend_ichimoku_b', 'volatility_kcli', 'volume_vpt', 'trend_psar_down', 'trend_trix', 'momentum_tsi', 'trend_vortex_ind_pos', 'trend_kst_sig', 'volatility_kcc', 'volatility_bbw', 'volume_em', 'trend_sma_fast', 'trend_mass_index', 'trend_sma_slow', 'trend_ichimoku_a', 'volume_adi', 'trend_ichimoku_conv', 'momentum_roc', 'trend_ema_fast', 'trend_aroon_down', 'volatility_bbp', 'trend_adx_pos', 'momentum_stoch_rsi_k', 'momentum_pvo', 'volatility_ui', 'volatility_kchi', 'momentum_ao', 'volatility_dcw', 'volatility_bbli', 'trend_stc']\",\n",
       " 'train_test_split': '0.8',\n",
       " 'symbol_universe': \"['SWKS', 'ALLE', 'BDX', 'CMI', 'APH', 'PNC', 'GWW', 'GLW', 'NRG', 'JKHY', 'LRCX', 'KHC', 'OMC', 'KMX', 'MRO', 'GE', 'NVDA', 'NOC', 'KO', 'CE']\",\n",
       " 'nheads': '2',\n",
       " 'num_transformer_layers': '2',\n",
       " 'holding_period': '1',\n",
       " 'eval_step': '1',\n",
       " 'd_model': '88',\n",
       " 'optimizer': 'Adam',\n",
       " 'metric_function': 'sharpe',\n",
       " 'episode_duration': '12',\n",
       " 'learning_rate': '0.001',\n",
       " 'train_step': '1'}"
      ]
     },
     "execution_count": 13,
     "metadata": {},
     "output_type": "execute_result"
    }
   ],
   "source": [
    "run_params = run.data.params\n",
    "run_params"
   ]
  },
  {
   "cell_type": "code",
   "execution_count": 14,
   "metadata": {},
   "outputs": [],
   "source": [
    "market_env = MarketEnvironment(\n",
    "        device = device,\n",
    "        data_path = data_path,\n",
    "        holding_period = int(run_params['holding_period']),\n",
    "        episode_duration = int(run_params['episode_duration']),\n",
    "        train_test_split = float(run_params['train_test_split']),\n",
    "        symbol_universe = ast.literal_eval(run_params['symbol_universe']),\n",
    "        feature_set = ast.literal_eval(run_params['feature_set'])\n",
    "        )"
   ]
  },
  {
   "cell_type": "code",
   "execution_count": 15,
   "metadata": {},
   "outputs": [],
   "source": [
    "logged_model = 'runs:/17ce97946d7e47c1996f5e06b7853cf0/portfolio_constructor_2024_11_11_09_52'\n",
    "# Load model as a PyFuncModel.\n",
    "loaded_model = mlflow.pytorch.load_model(logged_model)"
   ]
  },
  {
   "cell_type": "code",
   "execution_count": 16,
   "metadata": {},
   "outputs": [],
   "source": [
    "is_end = False\n",
    "returns_ = []\n",
    "symbol_universe_returns = []\n",
    "tran_costs = []\n",
    "\n",
    "market_env.reset(mode = \"test\")\n",
    "state = market_env.get_state()\n",
    "\n"
   ]
  },
  {
   "cell_type": "code",
   "execution_count": 17,
   "metadata": {},
   "outputs": [
    {
     "data": {
      "text/plain": [
       "(933, 933, 1173)"
      ]
     },
     "execution_count": 17,
     "metadata": {},
     "output_type": "execute_result"
    }
   ],
   "source": [
    "market_env.split_, market_env.t_, market_env.end_t_"
   ]
  },
  {
   "cell_type": "code",
   "execution_count": 18,
   "metadata": {},
   "outputs": [],
   "source": [
    "symbol_universe = ast.literal_eval(run_params['symbol_universe'])"
   ]
  },
  {
   "cell_type": "code",
   "execution_count": 19,
   "metadata": {},
   "outputs": [
    {
     "data": {
      "text/plain": [
       "tensor([0.0500, 0.0500, 0.0500, 0.0500, 0.0500, 0.0500, 0.0500, 0.0500, 0.0500,\n",
       "        0.0500, 0.0500, 0.0500, 0.0500, 0.0500, 0.0500, 0.0500, 0.0500, 0.0500,\n",
       "        0.0500, 0.0500], device='cuda:0')"
      ]
     },
     "execution_count": 19,
     "metadata": {},
     "output_type": "execute_result"
    }
   ],
   "source": [
    "symbol_universe_allocations = torch.Tensor(np.repeat(1/len(symbol_universe), len(symbol_universe))).to(device)\n",
    "symbol_universe_allocations\n"
   ]
  },
  {
   "cell_type": "code",
   "execution_count": 20,
   "metadata": {},
   "outputs": [
    {
     "data": {
      "text/plain": [
       "tensor(0.8776, device='cuda:0', dtype=torch.float64, grad_fn=<DivBackward0>)"
      ]
     },
     "execution_count": 20,
     "metadata": {},
     "output_type": "execute_result"
    }
   ],
   "source": [
    "while not is_end:\n",
    "    _, allocations = loaded_model(state)\n",
    "\n",
    "    symbol_universe_return_= market_env.get_baseline_return(symbol_universe_allocations)\n",
    "    state, return_, is_end, tran_cost = market_env.step(allocations)\n",
    "    \n",
    "    symbol_universe_returns.append(symbol_universe_return_)\n",
    "    returns_.append(return_)\n",
    "    tran_costs.append(tran_cost)\n",
    "\n",
    "sharp_ratio = sharp_ratio_(returns_, tran_costs)\n",
    "sharp_ratio"
   ]
  },
  {
   "cell_type": "code",
   "execution_count": 21,
   "metadata": {},
   "outputs": [
    {
     "data": {
      "text/plain": [
       "tensor(0.8643, device='cuda:0', dtype=torch.float64)"
      ]
     },
     "execution_count": 21,
     "metadata": {},
     "output_type": "execute_result"
    }
   ],
   "source": [
    "uni_sharp_ratio = sharp_ratio_(symbol_universe_returns, tran_costs)\n",
    "uni_sharp_ratio"
   ]
  },
  {
   "cell_type": "code",
   "execution_count": 23,
   "metadata": {},
   "outputs": [
    {
     "data": {
      "text/plain": [
       "[tensor(518.7401, device='cuda:0', dtype=torch.float64, grad_fn=<SumBackward0>),\n",
       " tensor(375.3623, device='cuda:0', dtype=torch.float64, grad_fn=<SumBackward0>),\n",
       " tensor(189.0472, device='cuda:0', dtype=torch.float64, grad_fn=<SumBackward0>),\n",
       " tensor(627.5846, device='cuda:0', dtype=torch.float64, grad_fn=<SumBackward0>),\n",
       " tensor(594.6323, device='cuda:0', dtype=torch.float64, grad_fn=<SumBackward0>),\n",
       " tensor(39.2412, device='cuda:0', dtype=torch.float64, grad_fn=<SumBackward0>),\n",
       " tensor(30.9920, device='cuda:0', dtype=torch.float64, grad_fn=<SumBackward0>),\n",
       " tensor(-416.4769, device='cuda:0', dtype=torch.float64, grad_fn=<SumBackward0>),\n",
       " tensor(-250.9532, device='cuda:0', dtype=torch.float64, grad_fn=<SumBackward0>),\n",
       " tensor(831.2970, device='cuda:0', dtype=torch.float64, grad_fn=<SumBackward0>),\n",
       " tensor(469.2236, device='cuda:0', dtype=torch.float64, grad_fn=<SumBackward0>),\n",
       " tensor(930.9438, device='cuda:0', dtype=torch.float64, grad_fn=<SumBackward0>),\n",
       " tensor(459.0675, device='cuda:0', dtype=torch.float64, grad_fn=<SumBackward0>)]"
      ]
     },
     "execution_count": 23,
     "metadata": {},
     "output_type": "execute_result"
    }
   ],
   "source": [
    "returns_"
   ]
  },
  {
   "cell_type": "code",
   "execution_count": 22,
   "metadata": {},
   "outputs": [
    {
     "data": {
      "text/plain": [
       "[tensor(337.5375, device='cuda:0', dtype=torch.float64),\n",
       " tensor(571.0625, device='cuda:0', dtype=torch.float64),\n",
       " tensor(8.4322, device='cuda:0', dtype=torch.float64),\n",
       " tensor(415.6478, device='cuda:0', dtype=torch.float64),\n",
       " tensor(533.1890, device='cuda:0', dtype=torch.float64),\n",
       " tensor(52.1050, device='cuda:0', dtype=torch.float64),\n",
       " tensor(-1.9826, device='cuda:0', dtype=torch.float64),\n",
       " tensor(-330.1436, device='cuda:0', dtype=torch.float64),\n",
       " tensor(51.0758, device='cuda:0', dtype=torch.float64),\n",
       " tensor(313.4208, device='cuda:0', dtype=torch.float64),\n",
       " tensor(357.6756, device='cuda:0', dtype=torch.float64),\n",
       " tensor(589.2537, device='cuda:0', dtype=torch.float64),\n",
       " tensor(76.3052, device='cuda:0', dtype=torch.float64)]"
      ]
     },
     "execution_count": 22,
     "metadata": {},
     "output_type": "execute_result"
    }
   ],
   "source": [
    "symbol_universe_returns"
   ]
  }
 ],
 "metadata": {
  "kernelspec": {
   "display_name": "tf-wsl",
   "language": "python",
   "name": "python3"
  },
  "language_info": {
   "codemirror_mode": {
    "name": "ipython",
    "version": 3
   },
   "file_extension": ".py",
   "mimetype": "text/x-python",
   "name": "python",
   "nbconvert_exporter": "python",
   "pygments_lexer": "ipython3",
   "version": "3.9.19"
  }
 },
 "nbformat": 4,
 "nbformat_minor": 2
}
