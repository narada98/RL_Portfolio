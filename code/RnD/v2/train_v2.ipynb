{
 "cells": [
  {
   "cell_type": "code",
   "execution_count": 1,
   "metadata": {},
   "outputs": [],
   "source": [
    "import numpy as np\n",
    "import pandas as pd\n",
    "import random\n",
    "import torch\n",
    "import pickle"
   ]
  },
  {
   "cell_type": "code",
   "execution_count": 2,
   "metadata": {},
   "outputs": [],
   "source": [
    "from torch.utils.tensorboard import SummaryWriter"
   ]
  },
  {
   "cell_type": "code",
   "execution_count": 3,
   "metadata": {},
   "outputs": [],
   "source": [
    "from PortfolioConstructor import PortfolioConstructor\n",
    "from ExchnageEnv import MarketEnvironment"
   ]
  },
  {
   "cell_type": "code",
   "execution_count": 4,
   "metadata": {},
   "outputs": [
    {
     "name": "stdout",
     "output_type": "stream",
     "text": [
      "device : cuda\n"
     ]
    }
   ],
   "source": [
    "if torch.cuda.is_available():\n",
    "    torch.set_default_device('cuda') \n",
    "    torch.get_default_device()\n",
    "    device = 'cuda'\n",
    "    \n",
    "else:\n",
    "    device = 'cpu'\n",
    "\n",
    "print(f\"device : {device}\")"
   ]
  },
  {
   "cell_type": "code",
   "execution_count": 5,
   "metadata": {},
   "outputs": [
    {
     "data": {
      "text/plain": [
       "['SWKS', 'ALLE', 'BDX', 'CMI', 'APH', 'PNC', 'GWW', 'GLW', 'NRG', 'JKHY']"
      ]
     },
     "execution_count": 5,
     "metadata": {},
     "output_type": "execute_result"
    }
   ],
   "source": [
    "with open(\"/home/naradaw/dev/Charles_Schwab/data/symbol_universe/snp_unique_100_2019\", \"rb\") as fp:\n",
    "    symbol_universe = pickle.load(fp)\n",
    "    \n",
    "symbol_universe[:10]"
   ]
  },
  {
   "cell_type": "code",
   "execution_count": 6,
   "metadata": {},
   "outputs": [],
   "source": [
    "feature_set_path = \"/home/naradaw/dev/Charles_Schwab/data/w_features/v1/2024_10_31/feature_set_2024_10_31_11_18.pkl\"\n",
    "\n",
    "with open(feature_set_path, 'rb') as f:\n",
    "    feature_set = pickle.load(f)"
   ]
  },
  {
   "cell_type": "code",
   "execution_count": 7,
   "metadata": {},
   "outputs": [
    {
     "data": {
      "text/plain": [
       "['JCI',\n",
       " 'KHC',\n",
       " 'A',\n",
       " 'KMX',\n",
       " 'ALB',\n",
       " 'SWKS',\n",
       " 'ROST',\n",
       " 'JNJ',\n",
       " 'HUM',\n",
       " 'CINF',\n",
       " 'HCA',\n",
       " 'FRT',\n",
       " 'IPG',\n",
       " 'JNJ',\n",
       " 'AJG',\n",
       " 'ALL',\n",
       " 'INTC',\n",
       " 'TSN',\n",
       " 'NWS',\n",
       " 'ROST']"
      ]
     },
     "execution_count": 7,
     "metadata": {},
     "output_type": "execute_result"
    }
   ],
   "source": [
    "symbol_universe = random.choices(symbol_universe, k = 20)\n",
    "symbol_universe"
   ]
  },
  {
   "cell_type": "code",
   "execution_count": 8,
   "metadata": {},
   "outputs": [
    {
     "name": "stderr",
     "output_type": "stream",
     "text": [
      "/home/naradaw/miniconda3/envs/tf-wsl/lib/python3.9/site-packages/torch/nn/modules/transformer.py:307: UserWarning: enable_nested_tensor is True, but self.use_nested_tensor is False because encoder_layer.self_attn.batch_first was not True(use batch_first for better inference performance)\n",
      "  warnings.warn(f\"enable_nested_tensor is True, but self.use_nested_tensor is False because {why_not_sparsity_fast_path}\")\n"
     ]
    }
   ],
   "source": [
    "portfolio_constructor = PortfolioConstructor(\n",
    "    device = device,\n",
    "    symbol_universe= symbol_universe,\n",
    "    num_features= len(feature_set),\n",
    "    d_model = 88,\n",
    "    nheads = 2,\n",
    "    num_transformer_layers = 2,\n",
    ")"
   ]
  },
  {
   "cell_type": "code",
   "execution_count": 9,
   "metadata": {},
   "outputs": [],
   "source": [
    "data_path = \"/home/naradaw/dev/Charles_Schwab/data/w_features/v1/2024_10_31/dataset_sqs_2024_10_31_11_18.pkl\"\n",
    "\n",
    "market_env = MarketEnvironment(\n",
    "    data_path = data_path,\n",
    "    holding_period = 1,\n",
    "    train_test_split= 0.8,\n",
    "    symbol_universe = symbol_universe,\n",
    "    feature_set= feature_set,\n",
    "    device = device\n",
    "    )"
   ]
  },
  {
   "cell_type": "code",
   "execution_count": 10,
   "metadata": {},
   "outputs": [
    {
     "data": {
      "text/plain": [
       "(1174, 60, 20, 87)"
      ]
     },
     "execution_count": 10,
     "metadata": {},
     "output_type": "execute_result"
    }
   ],
   "source": [
    "market_env.features.shape"
   ]
  },
  {
   "cell_type": "markdown",
   "metadata": {},
   "source": [
    "# Utility"
   ]
  },
  {
   "cell_type": "code",
   "execution_count": 11,
   "metadata": {},
   "outputs": [],
   "source": [
    "''' \n",
    "sharpe ratio measures the excess return of the portfolio over the \n",
    "volatility of it -> risk adjusted performance\n",
    "'''\n",
    "\n",
    "\n",
    "def sharp_ratio_(rewards, tran_costs):\n",
    "\n",
    "\t# rewards = [r.detach().cpu().numpy() for r in rewards]\n",
    "\tmean = sum(rewards) / len(rewards)\n",
    "\tAt = sum(r - t for r, t in zip(rewards, tran_costs)) / len(rewards)\n",
    "\tvol = sum((r - mean) ** 2 for r in rewards) / len(rewards)\n",
    "\tvol = vol ** 0.5\n",
    "\n",
    "\treturn (At - 1e-7) / (vol + 1e-9)"
   ]
  },
  {
   "cell_type": "markdown",
   "metadata": {},
   "source": [
    "# Train"
   ]
  },
  {
   "cell_type": "code",
   "execution_count": 12,
   "metadata": {},
   "outputs": [],
   "source": [
    "portfolio_constructor.cuda()\n",
    "portfolio_constructor.train()\n",
    "market_env.reset(mode = \"train\")"
   ]
  },
  {
   "cell_type": "code",
   "execution_count": 13,
   "metadata": {},
   "outputs": [
    {
     "data": {
      "text/plain": [
       "<generator object Module.parameters at 0x7f5fea5b5580>"
      ]
     },
     "execution_count": 13,
     "metadata": {},
     "output_type": "execute_result"
    }
   ],
   "source": [
    "portfolio_constructor.parameters()"
   ]
  },
  {
   "cell_type": "code",
   "execution_count": 14,
   "metadata": {},
   "outputs": [],
   "source": [
    "optimizer = torch.optim.Adam(portfolio_constructor.parameters(), lr = 0.01)\n",
    "# optimizer = torch.optim.RMSprop(portfolio_constructor.parameters(), lr=0.01, momentum=1e-4)"
   ]
  },
  {
   "cell_type": "code",
   "execution_count": 15,
   "metadata": {},
   "outputs": [
    {
     "data": {
      "text/plain": [
       "torch.Size([60, 20, 87])"
      ]
     },
     "execution_count": 15,
     "metadata": {},
     "output_type": "execute_result"
    }
   ],
   "source": [
    "market_env.get_state().shape"
   ]
  },
  {
   "cell_type": "markdown",
   "metadata": {},
   "source": [
    "# Sandbox"
   ]
  },
  {
   "cell_type": "code",
   "execution_count": 16,
   "metadata": {},
   "outputs": [],
   "source": [
    "def sharp_ratio_loss_(rewards, tran_costs, allocations):\n",
    "\n",
    "\t# rewards = [r.detach().cpu().numpy() for r in rewards]\n",
    "\tmean = sum(rewards) / len(rewards)\n",
    "\tAt = sum(r - t for r, t in zip(rewards, tran_costs)) / len(rewards)\n",
    "\tvol = sum((r - mean) ** 2 for r in rewards) / len(rewards)\n",
    "\tvol = vol ** 0.5\n",
    "\n",
    "\treturn (At - 1e-7) / (vol + 1e-9)"
   ]
  },
  {
   "cell_type": "code",
   "execution_count": 17,
   "metadata": {},
   "outputs": [],
   "source": [
    "training_steps = 500\n",
    "eval_step = 8\n",
    "train_step = 8\n"
   ]
  },
  {
   "cell_type": "code",
   "execution_count": 18,
   "metadata": {},
   "outputs": [],
   "source": [
    "def evaluate(model, env):\n",
    "    model.eval()\n",
    "    is_end = False\n",
    "    rewards = []\n",
    "    tran_costs = []\n",
    "    \n",
    "    env.reset(mode = \"test\")\n",
    "    state = env.get_state()\n",
    "\n",
    "    while not is_end:\n",
    "        _, allocations = model(state)\n",
    "        state, reward, is_end, tran_cost = env.step(allocations)\n",
    "\n",
    "        rewards.append(reward)\n",
    "        tran_costs.append(tran_cost)\n",
    "\n",
    "    sharp_ratio = sharp_ratio_(rewards, tran_costs)\n",
    "    \n",
    "    model.train()\n",
    "\n",
    "    return sharp_ratio, model"
   ]
  },
  {
   "cell_type": "code",
   "execution_count": 19,
   "metadata": {},
   "outputs": [],
   "source": [
    "writer = SummaryWriter()"
   ]
  },
  {
   "cell_type": "code",
   "execution_count": 20,
   "metadata": {},
   "outputs": [
    {
     "name": "stdout",
     "output_type": "stream",
     "text": [
      "-------------------------------------\n",
      "training model --\n",
      "Step 7: last loss = 149.41974\n",
      "eval step --\n",
      "Step 7: val_rewards = 0.3698109637764325\n",
      "*** found better model ***\n",
      "\n",
      "-------------------------------------\n",
      "training model --\n",
      "Step 15: last loss = 66.19151\n",
      "eval step --\n",
      "Step 15: val_rewards = 0.15664812297248581\n",
      "\n",
      "-------------------------------------\n",
      "training model --\n",
      "Step 23: last loss = 87.60789\n",
      "eval step --\n",
      "Step 23: val_rewards = 0.338853132664942\n",
      "\n",
      "-------------------------------------\n",
      "training model --\n",
      "Step 31: last loss = 5.06508\n",
      "eval step --\n",
      "Step 31: val_rewards = 0.35634472187194116\n",
      "\n",
      "-------------------------------------\n",
      "training model --\n",
      "Step 39: last loss = 51.92171\n",
      "eval step --\n",
      "Step 39: val_rewards = 0.16482640338511045\n",
      "\n",
      "-------------------------------------\n",
      "training model --\n",
      "Step 47: last loss = 47.50963\n",
      "eval step --\n",
      "Step 47: val_rewards = 0.18955052027512603\n",
      "\n",
      "-------------------------------------\n",
      "training model --\n",
      "Step 55: last loss = 82.15253\n",
      "eval step --\n",
      "Step 55: val_rewards = 0.3527404777614931\n",
      "\n",
      "-------------------------------------\n",
      "training model --\n",
      "Step 63: last loss = 166.34657\n",
      "eval step --\n",
      "Step 63: val_rewards = 0.4673378647515386\n",
      "*** found better model ***\n",
      "\n",
      "-------------------------------------\n",
      "training model --\n",
      "Step 71: last loss = 91.73404\n",
      "eval step --\n",
      "Step 71: val_rewards = 0.4852756776482354\n",
      "*** found better model ***\n",
      "\n",
      "-------------------------------------\n",
      "training model --\n",
      "Step 79: last loss = 114.91653\n",
      "eval step --\n",
      "Step 79: val_rewards = 0.11303377700691163\n",
      "\n",
      "-------------------------------------\n",
      "training model --\n",
      "Step 87: last loss = 142.44106\n",
      "eval step --\n",
      "Step 87: val_rewards = 0.16101922796366117\n",
      "\n",
      "-------------------------------------\n",
      "training model --\n",
      "Step 95: last loss = 157.34123\n",
      "eval step --\n",
      "Step 95: val_rewards = 0.0035441713617612204\n",
      "\n",
      "-------------------------------------\n",
      "training model --\n",
      "Step 103: last loss = 130.78209\n",
      "eval step --\n",
      "Step 103: val_rewards = 0.46166181073087886\n",
      "\n",
      "-------------------------------------\n",
      "training model --\n",
      "Step 111: last loss = 122.01995\n",
      "eval step --\n",
      "Step 111: val_rewards = 0.4613786645582804\n",
      "\n",
      "-------------------------------------\n",
      "training model --\n",
      "Step 119: last loss = 95.57958\n",
      "eval step --\n",
      "Step 119: val_rewards = 0.46132318666108474\n",
      "\n",
      "-------------------------------------\n",
      "training model --\n",
      "Step 127: last loss = 116.85126\n",
      "eval step --\n",
      "Step 127: val_rewards = 0.46139123167758533\n",
      "\n",
      "-------------------------------------\n",
      "training model --\n",
      "Step 135: last loss = 73.86058\n",
      "eval step --\n",
      "Step 135: val_rewards = 0.4790940660929282\n",
      "\n",
      "-------------------------------------\n",
      "training model --\n",
      "Step 143: last loss = -3.93427\n",
      "eval step --\n",
      "Step 143: val_rewards = 0.21494343489881332\n",
      "\n",
      "-------------------------------------\n",
      "training model --\n",
      "Step 151: last loss = 17.49473\n",
      "eval step --\n",
      "Step 151: val_rewards = 0.3589776262081351\n",
      "\n",
      "-------------------------------------\n",
      "training model --\n",
      "Step 159: last loss = 41.75086\n",
      "eval step --\n",
      "Step 159: val_rewards = 0.3589980681625589\n",
      "\n",
      "-------------------------------------\n",
      "training model --\n",
      "Step 167: last loss = 21.34690\n",
      "eval step --\n",
      "Step 167: val_rewards = 0.35901543581592676\n",
      "\n",
      "-------------------------------------\n",
      "training model --\n",
      "Step 175: last loss = 30.55712\n",
      "eval step --\n",
      "Step 175: val_rewards = 0.3590314288774454\n",
      "\n",
      "-------------------------------------\n",
      "training model --\n",
      "Step 183: last loss = 44.42448\n",
      "eval step --\n",
      "Step 183: val_rewards = 0.39849884582086037\n",
      "\n",
      "-------------------------------------\n",
      "training model --\n",
      "Step 191: last loss = 84.54028\n",
      "eval step --\n",
      "Step 191: val_rewards = 0.39851566097608526\n",
      "\n",
      "-------------------------------------\n",
      "training model --\n",
      "Step 199: last loss = 20.17836\n",
      "eval step --\n",
      "Step 199: val_rewards = 0.3985313867748909\n",
      "\n",
      "-------------------------------------\n",
      "training model --\n",
      "Step 207: last loss = -13.16674\n",
      "eval step --\n",
      "Step 207: val_rewards = 0.3985480287475525\n",
      "\n",
      "-------------------------------------\n",
      "training model --\n",
      "Step 215: last loss = 15.63919\n",
      "eval step --\n",
      "Step 215: val_rewards = 0.28948564712299524\n",
      "\n",
      "-------------------------------------\n",
      "training model --\n",
      "Step 223: last loss = -73.98135\n",
      "eval step --\n",
      "Step 223: val_rewards = 0.28948124171211276\n",
      "\n",
      "-------------------------------------\n",
      "training model --\n",
      "Step 231: last loss = 80.20336\n",
      "eval step --\n",
      "Step 231: val_rewards = 0.32312057463019805\n",
      "\n",
      "-------------------------------------\n",
      "training model --\n",
      "Step 239: last loss = -9.81730\n",
      "eval step --\n",
      "Step 239: val_rewards = 0.4024779115388426\n",
      "\n",
      "-------------------------------------\n",
      "training model --\n",
      "Step 247: last loss = -51.80088\n",
      "eval step --\n",
      "Step 247: val_rewards = 0.15884999390196752\n",
      "\n",
      "-------------------------------------\n",
      "training model --\n",
      "Step 255: last loss = -0.52920\n",
      "eval step --\n",
      "Step 255: val_rewards = 0.1250575344919846\n",
      "\n",
      "-------------------------------------\n",
      "training model --\n",
      "Step 263: last loss = 39.02633\n",
      "eval step --\n",
      "Step 263: val_rewards = 0.3243487063192093\n",
      "\n",
      "-------------------------------------\n",
      "training model --\n",
      "Step 271: last loss = 43.17258\n",
      "eval step --\n",
      "Step 271: val_rewards = 0.3307683408578105\n",
      "\n",
      "-------------------------------------\n",
      "training model --\n",
      "Step 279: last loss = 67.66253\n",
      "eval step --\n",
      "Step 279: val_rewards = 0.39470377998619066\n",
      "\n",
      "-------------------------------------\n",
      "training model --\n",
      "Step 287: last loss = 111.64966\n",
      "eval step --\n",
      "Step 287: val_rewards = 0.3322792824413122\n",
      "\n",
      "-------------------------------------\n",
      "training model --\n",
      "Step 295: last loss = -13.42274\n",
      "eval step --\n",
      "Step 295: val_rewards = 0.08830373623843042\n",
      "\n",
      "-------------------------------------\n",
      "training model --\n",
      "Step 303: last loss = -5.70076\n",
      "eval step --\n",
      "Step 303: val_rewards = -0.19296129282476088\n",
      "\n",
      "-------------------------------------\n",
      "training model --\n",
      "Step 311: last loss = 53.77617\n",
      "eval step --\n",
      "Step 311: val_rewards = -0.012883782424186259\n",
      "\n",
      "-------------------------------------\n",
      "training model --\n",
      "Step 319: last loss = 26.96225\n",
      "eval step --\n",
      "Step 319: val_rewards = 0.10354436126988711\n",
      "\n",
      "-------------------------------------\n",
      "training model --\n",
      "Step 327: last loss = -54.72542\n",
      "eval step --\n",
      "Step 327: val_rewards = 0.1301296828869853\n",
      "\n",
      "-------------------------------------\n",
      "training model --\n",
      "Step 335: last loss = 22.44713\n",
      "eval step --\n",
      "Step 335: val_rewards = 0.23383023351995724\n",
      "\n",
      "-------------------------------------\n",
      "training model --\n",
      "Step 343: last loss = 70.81799\n",
      "eval step --\n",
      "Step 343: val_rewards = 0.2430903413447999\n",
      "\n",
      "-------------------------------------\n",
      "training model --\n",
      "Step 351: last loss = 110.38361\n",
      "eval step --\n",
      "Step 351: val_rewards = 0.2555364778760601\n",
      "\n",
      "-------------------------------------\n",
      "training model --\n",
      "Step 359: last loss = 51.33144\n",
      "eval step --\n",
      "Step 359: val_rewards = 0.1972444067159585\n",
      "\n",
      "-------------------------------------\n",
      "training model --\n",
      "Step 367: last loss = 156.25430\n",
      "eval step --\n",
      "Step 367: val_rewards = 0.200029093345217\n",
      "\n",
      "-------------------------------------\n",
      "training model --\n",
      "Step 375: last loss = -49.92030\n",
      "eval step --\n",
      "Step 375: val_rewards = 0.2000287239588621\n",
      "\n",
      "-------------------------------------\n",
      "training model --\n",
      "Step 383: last loss = 173.76460\n",
      "eval step --\n",
      "Step 383: val_rewards = 0.2051711081102148\n",
      "\n",
      "-------------------------------------\n",
      "training model --\n",
      "Step 391: last loss = 2.59692\n",
      "eval step --\n",
      "Step 391: val_rewards = 0.20517058675260533\n",
      "\n",
      "-------------------------------------\n",
      "training model --\n",
      "Step 399: last loss = -19.87691\n",
      "eval step --\n",
      "Step 399: val_rewards = 0.20517020061910235\n",
      "\n",
      "-------------------------------------\n",
      "training model --\n",
      "Step 407: last loss = 56.35180\n",
      "eval step --\n",
      "Step 407: val_rewards = 0.22747139173233347\n",
      "\n",
      "-------------------------------------\n",
      "training model --\n",
      "Step 415: last loss = 65.28011\n",
      "eval step --\n",
      "Step 415: val_rewards = 0.24943456583327558\n",
      "\n",
      "-------------------------------------\n",
      "training model --\n",
      "Step 423: last loss = 35.57948\n",
      "eval step --\n",
      "Step 423: val_rewards = 0.24943431313742623\n",
      "\n",
      "-------------------------------------\n",
      "training model --\n",
      "Step 431: last loss = 168.09976\n",
      "eval step --\n",
      "Step 431: val_rewards = 0.21940371126357955\n",
      "\n",
      "-------------------------------------\n",
      "training model --\n",
      "Step 439: last loss = 7.19667\n",
      "eval step --\n",
      "Step 439: val_rewards = 0.21940337449674277\n",
      "\n",
      "-------------------------------------\n",
      "training model --\n",
      "Step 447: last loss = 8.46511\n",
      "eval step --\n",
      "Step 447: val_rewards = 0.2194030720063462\n",
      "\n",
      "-------------------------------------\n",
      "training model --\n",
      "Step 455: last loss = 6.05336\n",
      "eval step --\n",
      "Step 455: val_rewards = 0.20516799029202695\n",
      "\n",
      "-------------------------------------\n",
      "training model --\n",
      "Step 463: last loss = 150.80214\n",
      "eval step --\n",
      "Step 463: val_rewards = 0.13593779667914277\n",
      "\n",
      "-------------------------------------\n",
      "training model --\n",
      "Step 471: last loss = 75.37627\n",
      "eval step --\n",
      "Step 471: val_rewards = 0.09121797934315792\n",
      "\n",
      "-------------------------------------\n",
      "training model --\n",
      "Step 479: last loss = 96.47398\n",
      "eval step --\n",
      "Step 479: val_rewards = 0.09121789445983025\n",
      "\n",
      "-------------------------------------\n",
      "training model --\n",
      "Step 487: last loss = 60.13012\n",
      "eval step --\n",
      "Step 487: val_rewards = 0.0912178343883949\n",
      "\n",
      "-------------------------------------\n",
      "training model --\n",
      "Step 495: last loss = 102.39610\n",
      "eval step --\n",
      "Step 495: val_rewards = 0.08304461330963582\n",
      "\n"
     ]
    }
   ],
   "source": [
    "max_reward = -1\n",
    "\n",
    "for training_step in range(training_steps):\n",
    "    is_end = False\n",
    "    rewards = []\n",
    "    tran_costs = []\n",
    "    nlls = []\n",
    "    all_allocations = []\n",
    "\n",
    "    market_env.reset(mode = \"train\", transaction_cost= 1e-7)\n",
    "    state = market_env.get_state()\n",
    "\n",
    "    while not is_end:\n",
    "        symbol_idx, allocations = portfolio_constructor(state)\n",
    "        state, reward, is_end, tran_cost = market_env.step(allocations)\n",
    "\n",
    "        all_allocations.append(allocations)\n",
    "        rewards.append(reward)\n",
    "        tran_costs.append(tran_cost)\n",
    "        mask_tensor = torch.tensor([1 if i in symbol_idx.cpu().numpy() else 0 for i in range(allocations.shape[0])]).type(torch.FloatTensor).cuda()\n",
    "\n",
    "        nlls.append((torch.log(allocations.abs() + 1e-9) * mask_tensor))\n",
    "\n",
    "    sharp_ratio = sharp_ratio_(rewards, tran_costs)\n",
    "\n",
    "    # loss = -sharp_ratio * sum([step_allocations.sum() for step_allocations in all_allocations])\n",
    "    loss = -sharp_ratio * sum([e.sum() for e in nlls])\n",
    "    # loss = - sum([e.sum() for e in nlls])\n",
    "\n",
    "    loss.backward(retain_graph=True)\n",
    "\n",
    "    if (training_step + 1) % train_step == 0:\n",
    "\n",
    "        print(\"-------------------------------------\")\n",
    "        print(\"training model --\")\n",
    "        print('Step {}: last loss = {:.5f}\\r'.format(training_step, loss), end='')\n",
    "        print()\n",
    "        writer.add_scalar(\"Loss/train\", sharp_ratio, training_step)\n",
    "        optimizer.step()\n",
    "        optimizer.zero_grad()\n",
    "        count = 0\n",
    "        \n",
    "    if (training_step + 1) % eval_step == 0:\n",
    "        print(\"eval step --\")\n",
    "        with torch.no_grad():\n",
    "            \n",
    "            reward_val, portfolio_constructor = evaluate(portfolio_constructor, market_env)\n",
    "\n",
    "            print('Step {}: val_rewards = {}'.format(training_step, reward_val))\n",
    "            writer.add_scalar(\"eval_sharpe/train\", reward_val, training_step)\n",
    "\n",
    "            if max_reward < reward_val:\n",
    "                max_reward = reward_val\n",
    "\n",
    "                print(\"*** found better model ***\")\n",
    "            print()\n",
    "                # torch.save(portfolio_constructor.state_dict(), model_path)"
   ]
  },
  {
   "cell_type": "code",
   "execution_count": 21,
   "metadata": {},
   "outputs": [],
   "source": [
    "random_state = market_env.get_random_state()\n",
    "# random_state.detach().cpu().numpy()"
   ]
  },
  {
   "cell_type": "code",
   "execution_count": 22,
   "metadata": {},
   "outputs": [
    {
     "data": {
      "text/plain": [
       "(tensor([ 0,  1,  2,  4,  6,  8, 12, 14, 18, 19], device='cuda:0'),\n",
       " tensor([0.1000, 0.1000, 0.1000, 0.0000, 0.1000, 0.0000, 0.1000, 0.0000, 0.1000,\n",
       "         0.0000, 0.0000, 0.0000, 0.1000, 0.0000, 0.1000, 0.0000, 0.0000, 0.0000,\n",
       "         0.1000, 0.1000], device='cuda:0', grad_fn=<SoftmaxBackward0>))"
      ]
     },
     "execution_count": 22,
     "metadata": {},
     "output_type": "execute_result"
    }
   ],
   "source": [
    "portfolio_constructor.eval()\n",
    "portfolio_constructor(random_state)"
   ]
  },
  {
   "cell_type": "code",
   "execution_count": 23,
   "metadata": {},
   "outputs": [
    {
     "name": "stderr",
     "output_type": "stream",
     "text": [
      "/home/naradaw/dev/Charles_Schwab/code/RnD/v2/PortfolioConstructor.py:135: TracerWarning: torch.Tensor results are registered as constants in the trace. You can safely ignore this warning if you use this function to create tensors out of constant variables that would be the same every time you call this function. In any other case, this might cause the trace to be incorrect.\n",
      "  long_mask = torch.Tensor([0 if i in long_sqs else 1 for i in range(rank.shape[0])]).to(self.device)\n",
      "/home/naradaw/dev/Charles_Schwab/code/RnD/v2/PortfolioConstructor.py:162: TracerWarning: Iterating over a tensor might cause the trace to be incorrect. Passing a tensor of different shape won't change the number of iterations executed (and might lead to errors or silently give incorrect results).\n",
      "  portfolio_allocations = [allocation.item() for allocation in allocations if allocation != 0]\n"
     ]
    }
   ],
   "source": [
    "writer.add_graph(portfolio_constructor, random_state.detach())"
   ]
  },
  {
   "cell_type": "code",
   "execution_count": 24,
   "metadata": {},
   "outputs": [],
   "source": [
    "writer.flush()\n",
    "writer.close()"
   ]
  },
  {
   "cell_type": "code",
   "execution_count": 25,
   "metadata": {},
   "outputs": [
    {
     "data": {
      "text/plain": [
       "(tensor(-3.3242, device='cuda:0'), tensor(-4.8283, device='cuda:0'))"
      ]
     },
     "execution_count": 25,
     "metadata": {},
     "output_type": "execute_result"
    }
   ],
   "source": [
    "torch.log(torch.tensor([0.4, 0.3, 0.3])).sum(), torch.log(torch.tensor([0.8, 0.1, 0.1])).sum()"
   ]
  },
  {
   "cell_type": "code",
   "execution_count": 26,
   "metadata": {},
   "outputs": [
    {
     "data": {
      "text/plain": [
       "tensor([-0.9163, -1.2040, -1.2040], device='cuda:0')"
      ]
     },
     "execution_count": 26,
     "metadata": {},
     "output_type": "execute_result"
    }
   ],
   "source": [
    "torch.log(torch.tensor([0.4, 0.3, 0.3]))"
   ]
  }
 ],
 "metadata": {
  "kernelspec": {
   "display_name": "tf-wsl",
   "language": "python",
   "name": "python3"
  },
  "language_info": {
   "codemirror_mode": {
    "name": "ipython",
    "version": 3
   },
   "file_extension": ".py",
   "mimetype": "text/x-python",
   "name": "python",
   "nbconvert_exporter": "python",
   "pygments_lexer": "ipython3",
   "version": "3.9.19"
  }
 },
 "nbformat": 4,
 "nbformat_minor": 2
}
