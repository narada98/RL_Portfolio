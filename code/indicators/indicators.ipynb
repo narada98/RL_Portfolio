{
 "cells": [
  {
   "cell_type": "code",
   "execution_count": 2,
   "metadata": {},
   "outputs": [],
   "source": [
    "import numpy as np\n",
    "import pandas as pd"
   ]
  },
  {
   "cell_type": "code",
   "execution_count": 3,
   "metadata": {},
   "outputs": [
    {
     "data": {
      "text/plain": [
       "array([109,  57, 137,  66, 107,  71, 138,  98,  59, 120, 118,  57, 131,\n",
       "        63,  87, 119, 131,  78,  51,  57, 114,  94,  69, 109,  64,  92,\n",
       "       125, 146, 143,  67,  74,  54,  78, 123, 112,  56, 113, 137, 119,\n",
       "        66, 136, 105,  88, 106,  67, 146,  93,  56,  68,  53, 140,  54,\n",
       "        82,  54,  98, 108,  95,  75,  85, 143, 101, 135, 110,  99,  76,\n",
       "       120,  81,  61,  71,  64,  50,  69,  66,  72,  79,  68,  65,  86,\n",
       "        61, 139,  89, 123, 108, 119, 148,  89,  94,  87,  81, 143,  82,\n",
       "       133,  81,  95,  87, 101,  59, 121, 149,  79])"
      ]
     },
     "execution_count": 3,
     "metadata": {},
     "output_type": "execute_result"
    }
   ],
   "source": [
    "test_arr = np.random.randint(50, 150, (100))\n",
    "test_arr"
   ]
  },
  {
   "cell_type": "markdown",
   "metadata": {},
   "source": [
    "# Simple average"
   ]
  },
  {
   "cell_type": "code",
   "execution_count": 4,
   "metadata": {},
   "outputs": [],
   "source": [
    "''' \n",
    "this function calculates the simple average of a price array\n",
    "this function returns the simple average of a sequence which is an integer.\n",
    "this function takes two input parameters. first input, price_array is an array of prices. second input,\n",
    "period is an integer which tells how many most recent array elements to consider when\n",
    "calculating the average. period input parameter is None by default.\n",
    "'''\n",
    "\n",
    "def simple_average(price_array, period = None):\n",
    "    if period is None:\n",
    "        period = len(price_array)\n",
    "        \n",
    "    return np.mean(price_array[-period:])"
   ]
  },
  {
   "cell_type": "code",
   "execution_count": 5,
   "metadata": {},
   "outputs": [
    {
     "data": {
      "text/plain": [
       "94.02"
      ]
     },
     "execution_count": 5,
     "metadata": {},
     "output_type": "execute_result"
    }
   ],
   "source": [
    "simple_average(test_arr)"
   ]
  },
  {
   "cell_type": "markdown",
   "metadata": {},
   "source": [
    "# MACD"
   ]
  },
  {
   "cell_type": "code",
   "execution_count": 13,
   "metadata": {},
   "outputs": [],
   "source": [
    "''' \n",
    "this function calculates the MACD of a price array\n",
    "this function returns the MACD of a sequence which is an integer.\n",
    "takes one input parameter which is price array. price array is an array.\n",
    "'''\n",
    "\n",
    "def MACD(price_array):\n",
    "\n",
    "    return np.around((pd.Series(price_array).ewm(span=12, adjust=False).mean() - pd.Series(price_array).ewm(span=26, adjust=False).mean()).iloc[-1], 2)"
   ]
  },
  {
   "cell_type": "code",
   "execution_count": 14,
   "metadata": {},
   "outputs": [
    {
     "data": {
      "text/plain": [
       "2.7"
      ]
     },
     "execution_count": 14,
     "metadata": {},
     "output_type": "execute_result"
    }
   ],
   "source": [
    "MACD(test_arr)"
   ]
  },
  {
   "cell_type": "code",
   "execution_count": 15,
   "metadata": {},
   "outputs": [
    {
     "data": {
      "text/plain": [
       "2.7"
      ]
     },
     "execution_count": 15,
     "metadata": {},
     "output_type": "execute_result"
    }
   ],
   "source": [
    "MACD(test_arr)"
   ]
  },
  {
   "cell_type": "code",
   "execution_count": 19,
   "metadata": {},
   "outputs": [
    {
     "data": {
      "text/plain": [
       "2.7000442096059487"
      ]
     },
     "execution_count": 19,
     "metadata": {},
     "output_type": "execute_result"
    }
   ],
   "source": [
    "(pd.Series(test_arr).ewm(span=12, adjust=False).mean()).iloc[-1]- (pd.Series(test_arr).ewm(span=26, adjust=False).mean()).iloc[-1]"
   ]
  },
  {
   "cell_type": "code",
   "execution_count": null,
   "metadata": {},
   "outputs": [],
   "source": [
    "test_arr"
   ]
  },
  {
   "cell_type": "markdown",
   "metadata": {},
   "source": [
    "# Price Appreciation"
   ]
  },
  {
   "cell_type": "code",
   "execution_count": 5,
   "metadata": {},
   "outputs": [],
   "source": [
    "'''\n",
    "calculates the price appreciation of a price array.\n",
    "returns the price appreciation which is a float that should be interpreted as a percentage.\n",
    "takes one input parameter which is price array. price array is an array.\n",
    "'''\n",
    "\n",
    "def price_appreciation(price_array):\n",
    "    return np.round(((price_array[-1]/ price_array[0]) - 1)*100, 2)"
   ]
  },
  {
   "cell_type": "code",
   "execution_count": 6,
   "metadata": {},
   "outputs": [
    {
     "data": {
      "text/plain": [
       "(50, 54)"
      ]
     },
     "execution_count": 6,
     "metadata": {},
     "output_type": "execute_result"
    }
   ],
   "source": [
    "test_arr[0], test_arr[-1]"
   ]
  },
  {
   "cell_type": "code",
   "execution_count": 7,
   "metadata": {},
   "outputs": [
    {
     "data": {
      "text/plain": [
       "8.0"
      ]
     },
     "execution_count": 7,
     "metadata": {},
     "output_type": "execute_result"
    }
   ],
   "source": [
    "price_appreciation(test_arr)"
   ]
  },
  {
   "cell_type": "markdown",
   "metadata": {},
   "source": [
    "# Maximum Drawdown"
   ]
  },
  {
   "cell_type": "code",
   "execution_count": 10,
   "metadata": {},
   "outputs": [],
   "source": [
    "'''\n",
    "calculates the maximum draw down of a price array.\n",
    "returns the maximum draw down of an price sequence as a float that should be interpreted as a percnetage.\n",
    "takes one input parameter which is an array called price_array.\n",
    "'''\n",
    "\n",
    "def max_dd(price_array):\n",
    "    peak = 0\n",
    "    recent_peaks = []\n",
    "\n",
    "    for price in price_array:\n",
    "        if price> peak:\n",
    "            peak = price\n",
    "        recent_peaks.append(peak)\n",
    "\n",
    "    dd = []\n",
    "\n",
    "    for peak, price in zip(recent_peaks,price_array):\n",
    "        dd.append((price-peak)/peak)\n",
    "\n",
    "    return np.round(np.abs(min(dd)), 2)"
   ]
  },
  {
   "cell_type": "code",
   "execution_count": 11,
   "metadata": {},
   "outputs": [
    {
     "data": {
      "text/plain": [
       "0.66"
      ]
     },
     "execution_count": 11,
     "metadata": {},
     "output_type": "execute_result"
    }
   ],
   "source": [
    "max_dd(test_arr)"
   ]
  },
  {
   "cell_type": "markdown",
   "metadata": {},
   "source": [
    "# RSI"
   ]
  },
  {
   "cell_type": "code",
   "execution_count": 46,
   "metadata": {},
   "outputs": [],
   "source": [
    "'''\n",
    "calculates the rsi value of a price array.\n",
    "returns a value between 0 & 100 which should NOT be interpreted as a percentage.\n",
    "takes two input parameters. first one is price_array which is an array.\n",
    "second one is window, which is an integer that tells how many most recent array elements to consider\n",
    "when calculatng the rsi value of the price array.\n",
    "'''\n",
    "\n",
    "def rsi(price_array, window = 14):\n",
    "\n",
    "    price_array = price_array[-window:]\n",
    "    price_srs = pd.Series(price_array)\n",
    "    change = price_srs.diff()\n",
    "\n",
    "    up_change = change.copy()\n",
    "    down_change = change.copy()\n",
    "\n",
    "    up_change[up_change < 0] = 0\n",
    "    down_change[down_change > 0] = 0\n",
    "\n",
    "    avg_up_change = up_change.mean()\n",
    "    avg_down_change = np.abs(down_change.mean())\n",
    "\n",
    "    rsi = 100* (avg_up_change)/(avg_up_change + avg_down_change)\n",
    "\n",
    "    return np.round(rsi, 2)"
   ]
  },
  {
   "cell_type": "code",
   "execution_count": 47,
   "metadata": {},
   "outputs": [
    {
     "data": {
      "text/plain": [
       "38.95"
      ]
     },
     "execution_count": 47,
     "metadata": {},
     "output_type": "execute_result"
    }
   ],
   "source": [
    "rsi(test_arr)"
   ]
  },
  {
   "cell_type": "code",
   "execution_count": null,
   "metadata": {},
   "outputs": [],
   "source": []
  }
 ],
 "metadata": {
  "kernelspec": {
   "display_name": "tf-wsl",
   "language": "python",
   "name": "python3"
  },
  "language_info": {
   "codemirror_mode": {
    "name": "ipython",
    "version": 3
   },
   "file_extension": ".py",
   "mimetype": "text/x-python",
   "name": "python",
   "nbconvert_exporter": "python",
   "pygments_lexer": "ipython3",
   "version": "3.9.19"
  }
 },
 "nbformat": 4,
 "nbformat_minor": 2
}
