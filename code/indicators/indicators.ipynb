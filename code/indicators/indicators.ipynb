{
 "cells": [
  {
   "cell_type": "code",
   "execution_count": 1,
   "metadata": {},
   "outputs": [],
   "source": [
    "import numpy as np\n",
    "import pandas as pd"
   ]
  },
  {
   "cell_type": "code",
   "execution_count": 2,
   "metadata": {},
   "outputs": [
    {
     "data": {
      "text/plain": [
       "array([ 50, 134, 143, 106,  85, 118, 139,  70,  96, 113, 139,  96,  90,\n",
       "        64, 122, 116, 123,  52, 126,  90,  84,  75, 130,  81, 145,  91,\n",
       "       130, 106,  94,  66,  78, 125, 123,  72, 101,  54,  50, 136, 132,\n",
       "        79, 131,  98, 148, 148,  52,  74, 103, 117,  53,  90,  95, 110,\n",
       "       112, 128,  65,  76,  88, 139,  54,  72,  78,  81,  63,  88, 141,\n",
       "        83,  81,  79, 141,  52, 124,  71,  70, 107, 140, 104,  87, 122,\n",
       "       105,  62, 143,  90,  92,  98, 137, 144, 147,  96, 136,  98, 120,\n",
       "       132,  80, 107,  62,  69,  77, 124,  53,  54])"
      ]
     },
     "execution_count": 2,
     "metadata": {},
     "output_type": "execute_result"
    }
   ],
   "source": [
    "test_arr = np.random.randint(50, 150, (100))\n",
    "test_arr"
   ]
  },
  {
   "cell_type": "markdown",
   "metadata": {},
   "source": [
    "# Simple moving average"
   ]
  },
  {
   "cell_type": "markdown",
   "metadata": {},
   "source": [
    "# Simple average"
   ]
  },
  {
   "cell_type": "code",
   "execution_count": 3,
   "metadata": {},
   "outputs": [],
   "source": [
    "''' \n",
    "this function calculates the simple average of a price array\n",
    "this function returns the simple average of a sequence which is an integer.\n",
    "this function takes two input parameters. first input, price_array is an array of prices. second input,\n",
    "period is an integer which tells how many most recent array elements to consider when\n",
    "calculating the average. period input parameter is None bu default.\n",
    "'''\n",
    "\n",
    "def simple_average(price_array, period = None):\n",
    "    if period is None:\n",
    "        period = len(price_array)\n",
    "        \n",
    "    return np.mean(price_array[-period:])"
   ]
  },
  {
   "cell_type": "code",
   "execution_count": 4,
   "metadata": {},
   "outputs": [
    {
     "data": {
      "text/plain": [
       "99.15"
      ]
     },
     "execution_count": 4,
     "metadata": {},
     "output_type": "execute_result"
    }
   ],
   "source": [
    "simple_average(test_arr)"
   ]
  },
  {
   "cell_type": "markdown",
   "metadata": {},
   "source": [
    "# Price Appreciation"
   ]
  },
  {
   "cell_type": "code",
   "execution_count": 5,
   "metadata": {},
   "outputs": [],
   "source": [
    "'''\n",
    "calculates the price appreciation of a price array.\n",
    "returns the price appreciation which is a float that should be interpreted as a percentage.\n",
    "takes one input parameter which is price array. price array is an array.\n",
    "'''\n",
    "\n",
    "def price_appreciation(price_array):\n",
    "    return np.round(((price_array[-1]/ price_array[0]) - 1)*100, 2)"
   ]
  },
  {
   "cell_type": "code",
   "execution_count": 6,
   "metadata": {},
   "outputs": [
    {
     "data": {
      "text/plain": [
       "(50, 54)"
      ]
     },
     "execution_count": 6,
     "metadata": {},
     "output_type": "execute_result"
    }
   ],
   "source": [
    "test_arr[0], test_arr[-1]"
   ]
  },
  {
   "cell_type": "code",
   "execution_count": 7,
   "metadata": {},
   "outputs": [
    {
     "data": {
      "text/plain": [
       "8.0"
      ]
     },
     "execution_count": 7,
     "metadata": {},
     "output_type": "execute_result"
    }
   ],
   "source": [
    "price_appreciation(test_arr)"
   ]
  },
  {
   "cell_type": "markdown",
   "metadata": {},
   "source": [
    "# Maximum Drawdown"
   ]
  },
  {
   "cell_type": "code",
   "execution_count": 10,
   "metadata": {},
   "outputs": [],
   "source": [
    "'''\n",
    "calculates the maximum draw down of a price array.\n",
    "returns the maximum draw down of an price sequence as a float that should be interpreted as a percnetage.\n",
    "takes one input parameter which is an array called price_array.\n",
    "'''\n",
    "\n",
    "def max_dd(price_array):\n",
    "    peak = 0\n",
    "    recent_peaks = []\n",
    "\n",
    "    for price in price_array:\n",
    "        if price> peak:\n",
    "            peak = price\n",
    "        recent_peaks.append(peak)\n",
    "\n",
    "    dd = []\n",
    "\n",
    "    for peak, price in zip(recent_peaks,price_array):\n",
    "        dd.append((price-peak)/peak)\n",
    "\n",
    "    return np.round(np.abs(min(dd)), 2)"
   ]
  },
  {
   "cell_type": "code",
   "execution_count": 11,
   "metadata": {},
   "outputs": [
    {
     "data": {
      "text/plain": [
       "0.66"
      ]
     },
     "execution_count": 11,
     "metadata": {},
     "output_type": "execute_result"
    }
   ],
   "source": [
    "max_dd(test_arr)"
   ]
  },
  {
   "cell_type": "markdown",
   "metadata": {},
   "source": [
    "# RSI"
   ]
  },
  {
   "cell_type": "code",
   "execution_count": 46,
   "metadata": {},
   "outputs": [],
   "source": [
    "'''\n",
    "calculates the rsi value of a price array.\n",
    "returns a value between 0 & 100 which should NOT be interpreted as a percentage.\n",
    "takes two input parameters. first one is price_array which is an array.\n",
    "second one is window, which is an integer that tells how many most recent array elements to consider\n",
    "when calculatng the rsi value of the price array.\n",
    "'''\n",
    "\n",
    "def rsi(price_array, window = 14):\n",
    "\n",
    "    price_array = price_array[-window:]\n",
    "    price_srs = pd.Series(price_array)\n",
    "    change = price_srs.diff()\n",
    "\n",
    "    up_change = change.copy()\n",
    "    down_change = change.copy()\n",
    "\n",
    "    up_change[up_change < 0] = 0\n",
    "    down_change[down_change > 0] = 0\n",
    "\n",
    "    avg_up_change = up_change.mean()\n",
    "    avg_down_change = np.abs(down_change.mean())\n",
    "\n",
    "    rsi = 100* (avg_up_change)/(avg_up_change + avg_down_change)\n",
    "\n",
    "    return np.round(rsi, 2)"
   ]
  },
  {
   "cell_type": "code",
   "execution_count": 47,
   "metadata": {},
   "outputs": [
    {
     "data": {
      "text/plain": [
       "38.95"
      ]
     },
     "execution_count": 47,
     "metadata": {},
     "output_type": "execute_result"
    }
   ],
   "source": [
    "rsi(test_arr)"
   ]
  },
  {
   "cell_type": "code",
   "execution_count": null,
   "metadata": {},
   "outputs": [],
   "source": []
  }
 ],
 "metadata": {
  "kernelspec": {
   "display_name": "tf-wsl",
   "language": "python",
   "name": "python3"
  },
  "language_info": {
   "codemirror_mode": {
    "name": "ipython",
    "version": 3
   },
   "file_extension": ".py",
   "mimetype": "text/x-python",
   "name": "python",
   "nbconvert_exporter": "python",
   "pygments_lexer": "ipython3",
   "version": "3.9.19"
  }
 },
 "nbformat": 4,
 "nbformat_minor": 2
}
